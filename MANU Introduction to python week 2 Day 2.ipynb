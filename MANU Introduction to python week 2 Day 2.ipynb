{
 "cells": [
  {
   "attachments": {
    "download.jpg": {
     "image/jpeg": "[encoded data removed]"
    }
   },
   "cell_type": "markdown",
   "id": "778a18c4",
   "metadata": {},
   "source": [
    "![download.jpg](attachment:download.jpg)"
   ]
  },
  {
   "cell_type": "markdown",
   "id": "baa404b4",
   "metadata": {},
   "source": [
    "                                            2/21/2023\n",
    "              \n",
    "                                            Mathematics Association of Nairobi University\n",
    "                                            isaak@students.uonbi.ac.ke\n",
    "                                            https://github.com/Isaakkamau"
   ]
  },
  {
   "cell_type": "markdown",
   "id": "9e494272",
   "metadata": {},
   "source": [
    "# python modules\n",
    "\n",
    "A `python module` can be defined as a python program file which contains a python code including python functions, class, or variables. \n",
    "\n",
    "In other words, we can say that our python code file saved with the extension (`.py`) is treated as the module. We may have a runnable code inside the python module.\n",
    "\n",
    "Modules in Python provides us the flexibility to organize the code in a logical way.\n",
    "\n",
    "### Loading the module in our python code:\n",
    "We use:\n",
    "\n",
    "1. The `import` statement\n",
    "2. The `from-import` statement\n",
    "\n",
    "#### The import statement\n",
    "\n",
    "The `import` statement is used to import all the functionality of one module into another. Here, we must notice that we can use\n",
    "the functionality of any python source file by importing that file as the module into another python source file.\n",
    "\n",
    "We can `import` multiple modules with a single import statement, but a module is loaded once regardless of the number of times, it has been imported into our file.\n",
    "\n",
    "#### The from-import statement\n",
    "\n",
    "Instead of importing the whole module into the namespace,python provides the flexibility to import only the specific attributes of a module. This can be done by using `from < module-name> import <name 1>, <name 2>..,<name n>` statement."
   ]
  },
  {
   "cell_type": "markdown",
   "id": "4a64da39",
   "metadata": {},
   "source": [
    "### Re-naming a Module\n",
    "You can create an alias when you import a module, by using the `as` keyword:\n",
    "\n",
    "```import mymodule as mx```"
   ]
  },
  {
   "cell_type": "markdown",
   "id": "69bdaddc",
   "metadata": {},
   "source": [
    "### Built-in Modules\n",
    "There are several built-in modules in Python, which you can import whenever you like."
   ]
  },
  {
   "cell_type": "markdown",
   "id": "a9ec0f56",
   "metadata": {},
   "source": [
    "# Reading and Writing to text files in Python\n",
    "\n",
    "File handling is an important part of any web application.\n",
    "\n",
    "Python has several functions for `creating`, `reading`, `updating`, and `deleting` files.\n",
    "\n",
    "### The key function for working with files in Python is the `open()` function.\n",
    "\n",
    "The `open()` function takes two parameters; `filename`, and `mode`.\n",
    "\n",
    "### There are four different methods (modes) for opening a file:\n",
    "\n",
    "1. `\"r\"` - Read - Default value. Opens a file for reading, error if the file does not exist\n",
    "\n",
    "2. `\"a\"` - Append - Opens a file for appending, creates the file if it does not exist\n",
    "\n",
    "3. `\"w\"` - Write - Opens a file for writing, creates the file if it does not exist\n",
    "\n",
    "4. `\"x\"` - Create - Creates the specified file, returns an error if the file exists\n",
    "\n",
    "\n",
    "### Syntax\n",
    "To open a file for reading it is enough to specify the name of the file:\n",
    "```\n",
    "f = open(\"demofile.txt\")\n",
    "```\n",
    "\n",
    "## Open a File on the Server\n",
    "Assume we have the following file, located in the same folder as Python:\n",
    "\n",
    "- demofile.txt\n",
    "    ```Hello! Welcome to demofile.txt\n",
    "       This file is for testing purposes.\n",
    "       Good Luck!\n",
    "    ```\n",
    "\n",
    "To open the file, use the built-in `open()` function.\n",
    "\n",
    "The `open()` function returns a file object, which has a `read()` method for reading the content of the file:\n",
    "\n"
   ]
  },
  {
   "cell_type": "code",
   "execution_count": null,
   "id": "2ebbc7e5",
   "metadata": {},
   "outputs": [],
   "source": [
    "# Example\n",
    "\n",
    "f = open(\"demofile.txt\", \"r\")\n",
    "print(f.read())\n"
   ]
  },
  {
   "cell_type": "markdown",
   "id": "61313663",
   "metadata": {},
   "source": [
    "If the file is located in a different location, you will have to specify the file path, like this:\n",
    "\n"
   ]
  },
  {
   "cell_type": "code",
   "execution_count": null,
   "id": "323d8c05",
   "metadata": {},
   "outputs": [],
   "source": [
    "f = open(\"D:\\\\myfiles\\welcome.txt\", \"r\")\n",
    "print(f.read())"
   ]
  },
  {
   "cell_type": "markdown",
   "id": "1209aa84",
   "metadata": {},
   "source": [
    "### Read Only Parts of the File\n",
    "\n",
    "By default the `read()` method returns the whole text, but you can also specify how many characters you want to return:\n",
    "\n",
    "Example:\n",
    "Return the 10 first characters of the file:\n",
    "\n"
   ]
  },
  {
   "cell_type": "code",
   "execution_count": null,
   "id": "b8772c41",
   "metadata": {},
   "outputs": [],
   "source": [
    "f = open(\"demofile.txt\", \"r\")\n",
    "print(f.read(10))"
   ]
  },
  {
   "cell_type": "markdown",
   "id": "2286ceff",
   "metadata": {},
   "source": [
    "By looping through the lines of the file, you can read the whole file, line by line:"
   ]
  },
  {
   "cell_type": "code",
   "execution_count": null,
   "id": "40e34b67",
   "metadata": {},
   "outputs": [],
   "source": [
    "#Loop through the file line by line:\n",
    "\n",
    "f = open(\"demofile.txt\", \"r\")\n",
    "for x in f:\n",
    "  print(x)"
   ]
  },
  {
   "cell_type": "markdown",
   "id": "a5c454fc",
   "metadata": {},
   "source": [
    "# Writing Files\n",
    "### Write to an Existing File\n",
    "\n",
    "To write to an existing file, you must add a parameter to the open() function:\n",
    "\n",
    "1. `\"a\"` - Append - will append to the end of the file\n",
    "\n",
    "2. `\"w\"` - Write - will overwrite any existing content\n",
    "\n"
   ]
  },
  {
   "cell_type": "code",
   "execution_count": null,
   "id": "0916ef1a",
   "metadata": {},
   "outputs": [],
   "source": [
    "#Open the file \"demofile2.txt\" and append content to the file:\n",
    "\n",
    "f = open(\"demofile2.txt\", \"a\")\n",
    "f.write(\"Now the file has more content!\")\n",
    "f.close()\n",
    "\n",
    "#open and read the file after the appending:\n",
    "f = open(\"demofile2.txt\", \"r\")\n",
    "print(f.read())"
   ]
  },
  {
   "cell_type": "code",
   "execution_count": null,
   "id": "9c878c42",
   "metadata": {},
   "outputs": [],
   "source": [
    "#Open the file \"demofile3.txt\" and overwrite the content:\n",
    "\n",
    "f = open(\"demofile3.txt\", \"w\")\n",
    "f.write(\"Woops! I have deleted the content!\")\n",
    "f.close()\n",
    "\n",
    "#open and read the file after the overwriting:\n",
    "f = open(\"demofile3.txt\", \"r\")\n",
    "print(f.read())"
   ]
  },
  {
   "cell_type": "markdown",
   "id": "46c746f4",
   "metadata": {},
   "source": [
    "## Delete a File\n",
    "To delete a file, you must import the `OS` module, and run its `os.remove()` function:\n"
   ]
  },
  {
   "cell_type": "code",
   "execution_count": null,
   "id": "a66fa1c2",
   "metadata": {},
   "outputs": [],
   "source": [
    "#Remove the file \"demofile.txt\":\n",
    "\n",
    "import os\n",
    "os.remove(\"demofile.txt\")"
   ]
  },
  {
   "cell_type": "markdown",
   "id": "4de3ae80",
   "metadata": {},
   "source": [
    "## Delete Folder\n",
    "To delete an entire folder, use the `os.rmdir()` method:"
   ]
  },
  {
   "cell_type": "code",
   "execution_count": null,
   "id": "4cdf6746",
   "metadata": {},
   "outputs": [],
   "source": [
    "#Remove the folder \"myfolder\":\n",
    "#Note: You can only remove empty folders.\n",
    "\n",
    "import os\n",
    "os.rmdir(\"myfolder\")"
   ]
  }
 ],
 "metadata": {
  "kernelspec": {
   "display_name": "Python 3 (ipykernel)",
   "language": "python",
   "name": "python3"
  },
  "language_info": {
   "codemirror_mode": {
    "name": "ipython",
    "version": 3
   },
   "file_extension": ".py",
   "mimetype": "text/x-python",
   "name": "python",
   "nbconvert_exporter": "python",
   "pygments_lexer": "ipython3",
   "version": "3.9.13"
  }
 },
 "nbformat": 4,
 "nbformat_minor": 5
}
