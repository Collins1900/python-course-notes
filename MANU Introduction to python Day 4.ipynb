{
 "cells": [
  {
   "attachments": {
    "download.jpg": {
     "image/jpeg": "[encoded data removed]"
    }
   },
   "cell_type": "markdown",
   "id": "c08b5d1a",
   "metadata": {},
   "source": [
    "![download.jpg](attachment:download.jpg)"
   ]
  },
  {
   "cell_type": "markdown",
   "id": "ad52db07",
   "metadata": {},
   "source": [
    "                                            2/16/2023\n",
    "              \n",
    "                                            Mathematics Association of Nairobi University\n",
    "                                            isaak@students.uonbi.ac.ke"
   ]
  },
  {
   "cell_type": "markdown",
   "id": "89a5b389",
   "metadata": {},
   "source": [
    "## Control Flow\n",
    "`Control flow` describes the order in which your lines of code are run. This order is usually different than the sequence in which the lines of code appear! Execution can flow from one place in the code to another\n",
    "\n",
    "we'll learn about several tools in Python we can use to affect our code's control flow:\n",
    "\n",
    "- Conditional Statements\n",
    "- Boolean Expressions\n",
    "- For and While Loops\n",
    "- Break and Continue\n",
    "\n",
    "### Indentation\n",
    "Some other languages use braces to show where blocks of code begin and end. In Python we use indentation to enclose blocks of code. For example, `if` statements use indentation to tell Python what code is inside and outside of different clauses.\n",
    "\n",
    "In Python, indents conventionally come in multiples of four spaces. Be strict about following this convention, because changing the indentation can completely change the meaning of the code. If you are working on a team of Python programmers, it's important that everyone follows the same indentation convention!\n",
    "\n",
    "#### Spaces or Tabs?\n",
    "The Python Style Guide (https://peps.python.org/pep-0008/#tabs-or-spaces) recommends using 4 spaces to indent, rather than using a tab. Whichever you use, be aware that \"Python 3 disallows mixing the use of tabs and spaces for indentation.\"\n",
    "\n",
    "\n",
    "\n",
    "### If Statement\n",
    "An if statement is a conditional statement that runs or skips code based on whether a condition is true or false. Here's a simple example.\n",
    "\n"
   ]
  },
  {
   "cell_type": "code",
   "execution_count": 1,
   "id": "ec6e5fb9",
   "metadata": {
    "collapsed": true
   },
   "outputs": [
    {
     "name": "stdout",
     "output_type": "stream",
     "text": [
      "Your phone_balance is:  20\n",
      "Your bank_balance is:  1000\n"
     ]
    }
   ],
   "source": [
    "phone_balance = 20\n",
    "bank_balance = 1000\n",
    "\n",
    "if phone_balance < 20:\n",
    "    phone_balance += 50\n",
    "    bank_balance -= 50\n",
    "    \n",
    "print(\"Your phone_balance is: \", phone_balance)\n",
    "print(\"Your bank_balance is: \", bank_balance)"
   ]
  },
  {
   "cell_type": "code",
   "execution_count": 2,
   "id": "30734623",
   "metadata": {},
   "outputs": [
    {
     "name": "stdout",
     "output_type": "stream",
     "text": [
      "Number 145 is odd.\n"
     ]
    }
   ],
   "source": [
    "number = 145\n",
    "\n",
    "if number % 2 == 0: # == is called comparison operators\n",
    "    print(\"Number \" + str(number) + \" is even.\")\n",
    "else:\n",
    "    print(\"Number \" + str(number) + \" is odd.\")"
   ]
  },
  {
   "cell_type": "markdown",
   "id": "6bf70f0b",
   "metadata": {},
   "source": [
    "To get inputs from the user we use `input()` function"
   ]
  },
  {
   "cell_type": "code",
   "execution_count": 3,
   "id": "26a00959",
   "metadata": {},
   "outputs": [
    {
     "name": "stdout",
     "output_type": "stream",
     "text": [
      "Please Enter your Name: Jane Doe\n",
      "Hello Jane Doe and Welcome to Data Analysis Class\n"
     ]
    }
   ],
   "source": [
    "#Example of how to get input from users\n",
    "name = input('Please Enter your Name: ')\n",
    "print(\"Hello \" + name + \" and Welcome to Data Analysis Class\")"
   ]
  },
  {
   "cell_type": "code",
   "execution_count": 6,
   "id": "628781da",
   "metadata": {},
   "outputs": [
    {
     "name": "stdout",
     "output_type": "stream",
     "text": [
      "Please Enter your Name: John Doe\n",
      "Please Enter Your Number: 123\n",
      "Hello John Doe Your Number: 123 is odd.\n"
     ]
    }
   ],
   "source": [
    "# A simple program for checking whether a number is odd or even\n",
    "name = input('Please Enter your Name: ')\n",
    "number = input(\"Please Enter Your Number: \")\n",
    "number = int(number)\n",
    "\n",
    "if number % 2 == 0:\n",
    "    print(\"Hello \" + name + \"Your Number: \" + str(number) + \" is even.\")\n",
    "else:\n",
    "    print(\"Hello \" + name + \" Your Number: \" + str(number) + \" is odd.\")"
   ]
  },
  {
   "cell_type": "markdown",
   "id": "c2b58e65",
   "metadata": {},
   "source": [
    "## If, Elif, Else\n",
    "In addition to the `if` clause, there are two other optional clauses often used with an `if` statement.\n",
    "\n",
    "1. `if`: An if statement must always start with an if clause, which contains the first condition that is checked. If this evaluates to True, Python runs the code indented in this if block and then skips to the rest of the code after the if statement.\n",
    "\n",
    "2. `elif`: elif is short for \"else if.\" An elif clause is used to check for an additional condition if the conditions in the previous clauses in the if statement evaluate to False. As you can see in the example, you can have multiple elif blocks to handle different situations.\n",
    "\n",
    "3. `else`: Last is the else clause, which must come at the end of an if statement if used. This clause doesn't require a condition. The code in an else block is run if all conditions above that in the if statement evaluate to False.\n",
    "\n",
    "For example:"
   ]
  },
  {
   "cell_type": "code",
   "execution_count": 6,
   "id": "49d57ec6",
   "metadata": {},
   "outputs": [
    {
     "name": "stdout",
     "output_type": "stream",
     "text": [
      "What season are we in? spring\n",
      "plant the garden!\n"
     ]
    }
   ],
   "source": [
    "season = input('What season are we in? ')\n",
    "\n",
    "if season == 'spring':\n",
    "    print('plant the garden!')\n",
    "elif season == 'summer':\n",
    "    print('water the garden!')\n",
    "elif season == 'fall':\n",
    "    print('harvest the garden!')\n",
    "elif season == 'winter':\n",
    "    print('stay indoors!')\n",
    "else:\n",
    "    print('unrecognized season')"
   ]
  },
  {
   "cell_type": "code",
   "execution_count": 20,
   "id": "3843dfdd",
   "metadata": {},
   "outputs": [
    {
     "name": "stdout",
     "output_type": "stream",
     "text": [
      "num1: 600\n",
      "Operator: /\n",
      "num2: 2\n",
      "300.0\n"
     ]
    }
   ],
   "source": [
    "#Building a simple Calculator for +,-, *, /, \n",
    "\n",
    "num1 = int(input(\"num1: \"))\n",
    "op = input(\"Operator: \")\n",
    "num2 = int(input(\"num2: \"))\n",
    "\n",
    "if op == \"+\":\n",
    "     print(num1 + num2)\n",
    "elif op == \"-\":\n",
    "     print(num1 - num2)\n",
    "elif op == \"/\":\n",
    "     print(num1 / num2)\n",
    "elif op == \"*\":\n",
    "     print(num1 * num2)\n",
    "else:\n",
    "     print(\"Invalid Operator\")\n",
    "        \n",
    "# Assignment: Add more operations in the calculator"
   ]
  },
  {
   "cell_type": "markdown",
   "id": "1ffb62ad",
   "metadata": {},
   "source": [
    "## Assignment: \n",
    "\n",
    "### Quiz: Guess My Number\n",
    "You decide you want to play a game where you are hiding a number from someone. Store this number in a variable called 'answer'. Another user provides a number called 'guess'. By comparing 'guess' to 'answer', you inform the user if their guess is too high or too low.\n",
    "\n",
    "Fill in the conditionals below to inform the user about how their guess compares to the answer.\n",
    "\n"
   ]
  },
  {
   "cell_type": "code",
   "execution_count": 12,
   "id": "8bf98354",
   "metadata": {
    "collapsed": true
   },
   "outputs": [
    {
     "name": "stdout",
     "output_type": "stream",
     "text": [
      "Please Enter Your Guess19\n",
      "Nice!  Your guess matched the answer!\n"
     ]
    }
   ],
   "source": [
    "# '''\n",
    "# You decide you want to play a game where you are hiding \n",
    "# a number from someone.  Store this number in a variable \n",
    "# called 'answer'.  Another user provides a number called\n",
    "# 'guess'.  By comparing guess to answer, you inform the user\n",
    "# if their guess is too high or too low.\n",
    "\n",
    "# Fill in the conditionals below to inform the user about how\n",
    "# their guess compares to the answer.\n",
    "# '''\n",
    "answer = 19 #provide answer\n",
    "guess =  input('Please Enter Your Guess')#provide guess\n",
    "guess = int(guess)\n",
    "\n",
    "if                             #provide conditional\n",
    "    result = \"Oops!  Your guess was too low.\"\n",
    "elif                           #provide conditional\n",
    "    result = \"Oops!  Your guess was too high.\"\n",
    "elif                           #provide conditional\n",
    "    result = \"Nice!  Your guess matched the answer!\"\n",
    "\n",
    "print(result)"
   ]
  },
  {
   "cell_type": "markdown",
   "id": "4acf0069",
   "metadata": {},
   "source": [
    "## For Loops\n",
    "Python has two kinds of loops - `for loops` and `while loops`. A `for` loop is used to \"iterate\", or do something repeatedly, over an iterable.\n",
    "\n",
    "An iterable is an object that can return one of its elements at a time. This can include sequence types, such as strings, lists, and tuples, as well as non-sequence types, such as dictionaries and files.\n",
    "\n",
    "Example\n",
    "Let's break down the components of a `for loop`, using this example with the list `cities`:"
   ]
  },
  {
   "cell_type": "code",
   "execution_count": 13,
   "id": "0b2f2c8b",
   "metadata": {},
   "outputs": [
    {
     "name": "stdout",
     "output_type": "stream",
     "text": [
      "new york city\n",
      "mountain view\n",
      "chicago\n",
      "los angeles\n",
      "Done!\n"
     ]
    }
   ],
   "source": [
    "cities = ['new york city', 'mountain view', 'chicago', 'los angeles']\n",
    "for city in cities:\n",
    "    print(city)\n",
    "print(\"Done!\")"
   ]
  },
  {
   "cell_type": "markdown",
   "id": "d189f9fa",
   "metadata": {},
   "source": [
    "### Components of a for Loop\n",
    "\n",
    "1. The first line of the loop starts with the `for` keyword, which signals that this is a `for` loop\n",
    "2. Following that is `city in cities`, indicating city is the `iteration variable`, and `cities` is the `iterable` being looped over. In the first iteration of the loop, `city` gets the value of the first element in cities, which is “`new york city`”.\n",
    "3. The `for` loop heading line always ends with a colon `:`\n",
    "4. Following the `for` loop heading is an indented block of code, the body of the loop, to be executed in each iteration of this loop. There is only one line in the body of this loop - `print(city)`.\n",
    "5. After the body of the loop has executed, we don't move on to the next line yet; we go back to the for heading line, where the iteration variable takes the value of the next element of the iterable. In the second iteration of the loop above, `city` takes the value of the next element in `cities`, which is \"mountain view\".\n",
    "6. This process repeats until the loop has iterated through all the elements of the `iterable`. Then, we move on to the line that follows the body of the loop - in this case, `print(\"Done!\")`. We can tell what the next line after the body of the loop is because it is unindented. Here is another reason why paying attention to your indentation is very important in Python!\n",
    "Executing the code in the example above produces this output:"
   ]
  },
  {
   "cell_type": "markdown",
   "id": "67f71ce6",
   "metadata": {},
   "source": [
    "### Using the `range()` Function with for Loops\n",
    "`range()` is a built-in function used to create an iterable sequence of numbers. You will frequently use `range()` with a `for` loop to repeat an action a certain number of times. Any variable can be used to iterate through the numbers, but Python programmers conventionally use `i`, as in this example:"
   ]
  },
  {
   "cell_type": "code",
   "execution_count": 14,
   "id": "5b074c16",
   "metadata": {},
   "outputs": [
    {
     "name": "stdout",
     "output_type": "stream",
     "text": [
      "Hello!\n",
      "Hello!\n",
      "Hello!\n"
     ]
    }
   ],
   "source": [
    "for i in range(3):\n",
    "    print(\"Hello!\")"
   ]
  },
  {
   "cell_type": "markdown",
   "id": "9aef0d65",
   "metadata": {},
   "source": [
    "range(start=0, stop, step=1)\n",
    "The range() function takes three integer arguments, the first and third of which are optional:\n",
    "\n",
    "- The 'start' argument is the first number of the sequence. If unspecified, 'start' defaults to 0.\n",
    "- The 'stop' argument is 1 more than the last number of the sequence. This argument must be specified.\n",
    "- The 'step' argument is the difference between each number in the sequence. If unspecified, 'step' defaults to 1.\n",
    "\n",
    "#### Notes on using `range():`\n",
    "\n",
    "- If you specify one integer inside the parentheses withrange(), it's used as the value for 'stop,' and the defaults are used for the other two.\n",
    "e.g. - `range(4)` returns `0, 1, 2, 3`\n",
    "- If you specify two integers inside the parentheses withrange(), they're used for 'start' and 'stop,' and the default is used for 'step.'\n",
    "e.g. - `range(2, 6)` returns `2, 3, 4, 5`\n",
    "- Or you can specify all three integers for 'start', 'stop', and 'step.'\n",
    "e.g. - `range(1, 10, 2)` returns `1, 3, 5, 7, 9`\n",
    "\n",
    "#### Creating and Modifying Lists\n",
    "In addition to extracting information from lists, as we did in the first example above, you can also create and modify lists with `for` loops. You can `create` a list by appending to a new list at each iteration of the `for` loop like this:"
   ]
  },
  {
   "cell_type": "code",
   "execution_count": 15,
   "id": "4c422bba",
   "metadata": {},
   "outputs": [],
   "source": [
    "# Creating a new list\n",
    "cities = ['new york city', 'mountain view', 'chicago', 'los angeles']\n",
    "capitalized_cities = []\n",
    "\n",
    "for city in cities:\n",
    "    capitalized_cities.append(city.title())"
   ]
  },
  {
   "cell_type": "code",
   "execution_count": 16,
   "id": "13d29a19",
   "metadata": {},
   "outputs": [
    {
     "name": "stdout",
     "output_type": "stream",
     "text": [
      "['New York City', 'Mountain View', 'Chicago', 'Los Angeles']\n"
     ]
    }
   ],
   "source": [
    "print(capitalized_cities)"
   ]
  },
  {
   "cell_type": "markdown",
   "id": "9be94336",
   "metadata": {},
   "source": [
    "## While Loops\n",
    "`For` loops are an example of \"`definite iteration`\" meaning that the loop's body is run a predefined number of times. This differs from \"indefinite iteration\" which is when a loop repeats an unknown number of times and ends when some condition is met, which is what happens in a while loop. Here's an example of a while loop."
   ]
  },
  {
   "cell_type": "code",
   "execution_count": 23,
   "id": "7efc679e",
   "metadata": {
    "collapsed": true
   },
   "outputs": [
    {
     "name": "stdout",
     "output_type": "stream",
     "text": [
      "1\n",
      "2\n",
      "3\n",
      "4\n",
      "5\n"
     ]
    }
   ],
   "source": [
    "i = 1\n",
    "while i < 6:\n",
    "  print(i)\n",
    "  i += 1"
   ]
  },
  {
   "cell_type": "markdown",
   "id": "ed0fec74",
   "metadata": {},
   "source": [
    "Print a message once the condition is false:"
   ]
  },
  {
   "cell_type": "code",
   "execution_count": 24,
   "id": "132fcdb7",
   "metadata": {},
   "outputs": [
    {
     "name": "stdout",
     "output_type": "stream",
     "text": [
      "1\n",
      "2\n",
      "3\n",
      "4\n",
      "5\n",
      "i is no longer less than 6\n"
     ]
    }
   ],
   "source": [
    "i = 1\n",
    "while i < 6:\n",
    "  print(i)\n",
    "  i += 1\n",
    "else:\n",
    "  print(\"i is no longer less than 6\")"
   ]
  },
  {
   "cell_type": "markdown",
   "id": "5db18060",
   "metadata": {},
   "source": [
    "### Question: What type of loop should we use?\n",
    "\n",
    "You need to write a loop that takes the numbers in a given list named num_list:\n",
    "`num_list = [422, 136, 524, 85, 96, 719, 85, 92, 10, 17, 312, 542, 87, 23, 86, 191, 116, 35, 173, 45, 149, 59, 84, 69, 113, 166]`\n",
    "\n",
    "Your code should add up the odd numbers in the list, but only up to the first 5 odd numbers together. If there are more than 5 odd numbers, you should stop at the fifth. If there are fewer than 5 odd numbers, add all of the odd numbers.\n",
    "\n",
    "#### use a `while` or a `for` loop to write this code?\n",
    "\n",
    "\n",
    "\n",
    "\n"
   ]
  },
  {
   "cell_type": "markdown",
   "id": "e634148d",
   "metadata": {},
   "source": [
    "We would write a while loop to write this code for the following reasons:\n",
    "\n",
    "1. We don't need a break statement that a for loop will require. Without a break statement, a for loop will iterate through the whole list, which is not efficient.\n",
    "2. We don't want to iterate over the entire list, but only over the required number of elements in the list that meets our condition.\n",
    "3. It is easier to understand because you explicitly control the exit conditions for the loop."
   ]
  },
  {
   "cell_type": "code",
   "execution_count": 25,
   "id": "7c7417df",
   "metadata": {},
   "outputs": [
    {
     "name": "stdout",
     "output_type": "stream",
     "text": [
      "The numbers of odd numbers added are: 5\n",
      "The sum of the odd numbers added is: 993\n"
     ]
    }
   ],
   "source": [
    "num_list = [422, 136, 524, 85, 96, 719, 85, 92, 10, 17, 312, 542, 87, 23, 86, 191, 116, 35, 173, 45, 149, 59, 84, 69, 113, 166]\n",
    "\n",
    "count_odd = 0\n",
    "list_sum = 0\n",
    "i = 0\n",
    "len_num_list = len(num_list)\n",
    "\n",
    "while (count_odd < 5) and (i < len_num_list): \n",
    "    if num_list[i] % 2 != 0:\n",
    "        list_sum += num_list[i]\n",
    "        count_odd += 1\n",
    "    i += 1\n",
    "\n",
    "print (\"The numbers of odd numbers added are: {}\".format(count_odd))\n",
    "print (\"The sum of the odd numbers added is: {}\".format(list_sum))"
   ]
  },
  {
   "cell_type": "markdown",
   "id": "7e9d63e4",
   "metadata": {},
   "source": [
    "## Projects\n",
    "### RE-DO THE FOLLOWING PROJECTS\n",
    "## DON'T COPY PASTE THE CODE!"
   ]
  },
  {
   "cell_type": "code",
   "execution_count": 2,
   "id": "b582136d",
   "metadata": {},
   "outputs": [
    {
     "name": "stdout",
     "output_type": "stream",
     "text": [
      "How many password do you want?:8\n",
      "How long do you want your password to be?:15\n",
      "5b9:xZg-4*vQtOo\n",
      "!/Pr420th.npMXz\n",
      ":A8r*z3EBlu-0vf\n",
      "RfA+h,P/5a9syp1\n",
      "dB@;mIvhM+8l09n\n",
      "v@2fP+8x&izE4cU\n",
      "gob1d#if!%HI8V3\n",
      "K4wh:9q,l_xQ1oW\n",
      "Press enter to exitok\n"
     ]
    },
    {
     "data": {
      "text/plain": [
       "'ok'"
      ]
     },
     "execution_count": 2,
     "metadata": {},
     "output_type": "execute_result"
    }
   ],
   "source": [
    "#Password Generator Application\n",
    "import random\n",
    "\n",
    "numbers = list()\n",
    "\n",
    "for i in range(40): numbers.append(str(i))\n",
    "\n",
    "while True:\n",
    "    ans = input(\"How many password do you want?:\")\n",
    "\n",
    "    if ans not in numbers: print(\"Your integer must be between 8 and 40. Please enter a valid number.\")\n",
    "    else: break\n",
    "\n",
    "while True:\n",
    "    leng = input(\"How long do you want your password to be?:\")\n",
    "\n",
    "    if leng not in numbers: print(\"Your integer must be between 8 and 40. Please enter a valid number.\")\n",
    "    else: break\n",
    "\n",
    "for i in range(int(ans)):\n",
    "    pas = list()\n",
    "\n",
    "    C = random.sample(\"ABCDEFGHIJKLMNOPQRSTUVWXYZ\", int(leng)//4)\n",
    "    CH = random.sample(\"!'#+%&/*?-_@,.:;\", int(leng) // 4)\n",
    "    NUM = random.sample(\"0123456789\", int(leng) // 4)\n",
    "    SML = random.sample(\"abcdefghijklmnopqrstuvwxyz\", int(leng)-int(leng)//4*3)\n",
    "\n",
    "    for i in C: pas+= i\n",
    "    for i in CH: pas+= i\n",
    "    for i in NUM: pas+= i\n",
    "    for i in SML: pas+= i\n",
    "\n",
    "    random.shuffle(pas)\n",
    "    password = \"\".join(pas)\n",
    "    print (password)\n",
    "\n",
    "input(\"Press enter to exit\")"
   ]
  },
  {
   "cell_type": "code",
   "execution_count": null,
   "id": "0963a388",
   "metadata": {},
   "outputs": [],
   "source": [
    "# Guess game application!\n",
    "import random\n",
    "interval=[\"1\",\"2\",\"3\",\"4\",\"5\",\"6\",\"7\",\"8\",\"9\",\"10\",\"11\",\"12\",\"13\",\"14\",\"15\",\"16\",\"17\",\"18\",\"19\",\"20\",\"21\",\"22\",\"23\",\"24\",\n",
    "          \"25\",\"26\",\"27\",\"28\",\"29\",\"30\",\"31\",\"32\",\"33\",\"34\",\"35\",\"36\",\"37\",\"38\",\"39\",\"40\",\"41\",\"42\",\"43\",\"44\",\"45\",\"46\",\n",
    "          \"47\",\"48\",\"49\",\"50\",\"51\",\"52\",\"53\",\"54\",\"55\",\"56\",\"57\",\"58\",\"60\",\"61\",\"62\",\"63\",\"64\",\"65\",\"66\",\"67\",\"68\",\"69\",\n",
    "          \"70\",\"71\",\"72\",\"73\",\"74\",\"75\",\"76\",\"77\",\"78\",\"79\",\"80\",\"81\",\"82\",\"83\",\"84\",\"85\",\"86\",\"87\",\"88\",\"89\",\"90\",\"91\",\n",
    "          \"92\",\"93\",\"94\",\"95\",\"96\",\"97\",\"98\",\"99\"]\n",
    "print (\"!!!Welcome to the most exquisite game of all time :)!!!\")\n",
    "name = input(\"Please enter your name:\")\n",
    "while True:\n",
    "    if name==\"\":\n",
    "        print (\"Name cant be blank. Please type your name.\")\n",
    "        name = input(\"Please enter your name:\")\n",
    "    else:\n",
    "        break\n",
    "print (\"Welcome\" + \" \" + name + \". \" + \"You're in a virtual reality guess game. Here how this game works. \")\n",
    "print (\"I kept a number in my mind which in between 0 and 100. You'll try to figure out the number by guessing. You have 7 guesses total.\")\n",
    "print (\"When you make your guess i'll tell you if you are far away or close. \")\n",
    "print (\"Lets begin. Good Luck :)\")\n",
    "def again():\n",
    "    while True:\n",
    "        choice = input(\"You wanna play again?:\")\n",
    "        if choice == \"yes\":\n",
    "            Guess()\n",
    "        elif choice == \"no\":\n",
    "            print (\"Ok. It was nice seing you. I hope we'll meet again. Stay safe by then\")\n",
    "            break\n",
    "        else:\n",
    "            print (\"I dont know what that is. Please type yes or no\")\n",
    "def Guess():\n",
    "    number = random.randint(1,100)\n",
    "    answer = input(\"Your guess is:\")\n",
    "    guess=7\n",
    "    while guess<8 and guess>1:\n",
    "        while True:\n",
    "            if answer not in interval:\n",
    "                print (\"Your entry is  not valid. Please type a number between 0 and 100\")\n",
    "                answer = input(\"Your guess is:\")\n",
    "            else:\n",
    "                break\n",
    "        if answer==str(number):\n",
    "\n",
    "            print(\"woooow are you a kahin :)\")\n",
    "            again()\n",
    "        elif answer>str(number):\n",
    "\n",
    "            print(\"You went too far try a smaller number\")\n",
    "            guess -= 1\n",
    "\n",
    "            print(\"Now you're left with\" + \" \" + str(guess) + \" \" + \"number of guesses. Choose wisely.\")\n",
    "            answer = input(\"Your guess is:\")\n",
    "        else:\n",
    "\n",
    "            print(\"Is this your best guess? Try bigger numbers\")\n",
    "            guess -= 1\n",
    "            print(\"Now you're left with\" + \" \" + str(guess) + \" \" + \"number of guesses. Choose wisely.\")\n",
    "            answer = input(\"Your guess is:\")\n",
    "    if guess==1:\n",
    "        print\n",
    "        print(\"HAHAHAHAHA. It was\" + \" \" + str(number) + \".\")\n",
    "        again()"
   ]
  },
  {
   "cell_type": "code",
   "execution_count": null,
   "id": "10df1862",
   "metadata": {},
   "outputs": [],
   "source": []
  },
  {
   "cell_type": "code",
   "execution_count": null,
   "id": "93f1f8d1",
   "metadata": {},
   "outputs": [],
   "source": []
  },
  {
   "cell_type": "code",
   "execution_count": null,
   "id": "3b7c1984",
   "metadata": {},
   "outputs": [],
   "source": []
  }
 ],
 "metadata": {
  "kernelspec": {
   "display_name": "Python 3 (ipykernel)",
   "language": "python",
   "name": "python3"
  },
  "language_info": {
   "codemirror_mode": {
    "name": "ipython",
    "version": 3
   },
   "file_extension": ".py",
   "mimetype": "text/x-python",
   "name": "python",
   "nbconvert_exporter": "python",
   "pygments_lexer": "ipython3",
   "version": "3.9.13"
  }
 },
 "nbformat": 4,
 "nbformat_minor": 5
}
